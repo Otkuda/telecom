{
 "cells": [
  {
   "cell_type": "markdown",
   "metadata": {},
   "source": [
    "# Лабораторная работа 7\n",
    "---\n",
    "\n",
    "### Упражнение 7.1\n",
    "> Реализовать рекурсивный алгоритм ДПФ"
   ]
  },
  {
   "cell_type": "markdown",
   "metadata": {},
   "source": [
    "Создадим тестовый сигнал и проверим на нем работу функции Быстрого Преобразования Фурье из библиотеки `numpy`"
   ]
  },
  {
   "cell_type": "code",
   "execution_count": 2,
   "metadata": {},
   "outputs": [
    {
     "data": {
      "text/plain": [
       "array([ 0.2+0.j , -1.2-0.2j,  0.2+0.j , -1.2+0.2j])"
      ]
     },
     "execution_count": 2,
     "metadata": {},
     "output_type": "execute_result"
    }
   ],
   "source": [
    "import numpy as np\n",
    "\n",
    "ys = [-0.5, 0.1, 0.7, -0.1]\n",
    "hs = np.fft.fft(ys)\n",
    "hs"
   ]
  },
  {
   "cell_type": "markdown",
   "metadata": {},
   "source": [
    "Начнем с реализации нерекурсивного алгоритма, в котором вычислим БПФ по отдельности для четных и нечетных элементов. Для этого воспользуемся леммой Дэниелсона-Ланцоша:\n",
    "$$DFT(y)[n]=DFT(e)[n]+exp(-2\\pi in/N)DFT(o)[n]$$"
   ]
  },
  {
   "cell_type": "code",
   "execution_count": 7,
   "metadata": {},
   "outputs": [
    {
     "data": {
      "text/plain": [
       "array([ 0.2+0.j , -1.2-0.2j,  0.2+0.j , -1.2+0.2j])"
      ]
     },
     "execution_count": 7,
     "metadata": {},
     "output_type": "execute_result"
    }
   ],
   "source": [
    "def fft_no_recursion(ys):\n",
    "    N = len(ys)\n",
    "    even_dft = np.fft.fft(ys[::2])\n",
    "    odd_dft = np.fft.fft(ys[1::2])\n",
    "\n",
    "    ns = np.arange(N)\n",
    "    return np.tile(even_dft, 2) + np.exp(-2 * np.pi* 1j * ns / N) * np.tile(odd_dft, 2)\n",
    "\n",
    "hs1 = fft_no_recursion(ys)\n",
    "hs1"
   ]
  },
  {
   "cell_type": "code",
   "execution_count": 8,
   "metadata": {},
   "outputs": [
    {
     "data": {
      "text/plain": [
       "array([0., 0., 0., 0.])"
      ]
     },
     "execution_count": 8,
     "metadata": {},
     "output_type": "execute_result"
    }
   ],
   "source": [
    "np.abs(hs - hs1)"
   ]
  },
  {
   "cell_type": "markdown",
   "metadata": {},
   "source": [
    "Результат совпал"
   ]
  },
  {
   "cell_type": "code",
   "execution_count": 9,
   "metadata": {},
   "outputs": [],
   "source": [
    "def recursion_fft(ys):\n",
    "    N = len(ys)\n",
    "    if N == 1:\n",
    "        return ys\n",
    "    \n",
    "    even_dft = recursion_fft(ys[::2])\n",
    "    odd_dft = recursion_fft(ys[1::2])\n",
    "    \n",
    "    ns = np.arange(N)\n",
    "    \n",
    "    return np.tile(even_dft, 2) + np.exp(-1j * 2 * np.pi * ns / N) * np.tile(odd_dft, 2)"
   ]
  },
  {
   "cell_type": "code",
   "execution_count": null,
   "metadata": {},
   "outputs": [],
   "source": []
  }
 ],
 "metadata": {
  "kernelspec": {
   "display_name": "base",
   "language": "python",
   "name": "python3"
  },
  "language_info": {
   "codemirror_mode": {
    "name": "ipython",
    "version": 3
   },
   "file_extension": ".py",
   "mimetype": "text/x-python",
   "name": "python",
   "nbconvert_exporter": "python",
   "pygments_lexer": "ipython3",
   "version": "3.11.5"
  }
 },
 "nbformat": 4,
 "nbformat_minor": 2
}
