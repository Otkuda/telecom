{
 "cells": [
  {
   "cell_type": "markdown",
   "metadata": {},
   "source": [
    "# Лабораторная работа 8\n",
    "---\n",
    "### Упражнение 8.1\n",
    "> Что случится, если при увеличении ширины гауссова окна `std` не увеличивать число элементов в окне `M`"
   ]
  },
  {
   "cell_type": "code",
   "execution_count": 3,
   "metadata": {},
   "outputs": [],
   "source": [
    "import numpy as np\n",
    "import matplotlib.pyplot as plt\n",
    "\n",
    "from thinkdsp import decorate\n",
    "from thinkdsp import SquareSignal\n",
    "from thinkdsp import SawtoothSignal\n",
    "from thinkdsp import Wave\n",
    "import scipy.signal\n",
    "\n",
    "def zero_pad(array, n):\n",
    "    \"\"\"Extends an array with zeros.\n",
    "\n",
    "    array: NumPy array\n",
    "    n: length of result\n",
    "\n",
    "    returns: new NumPy array\n",
    "    \"\"\"\n",
    "    res = np.zeros(n)\n",
    "    res[:len(array)] = array\n",
    "    return res\n",
    "\n",
    "def plot_filter(M=11, std=2):\n",
    "    signal = SquareSignal(freq=440)\n",
    "    wave = signal.make_wave(duration=1, framerate=44100)\n",
    "    spectrum = wave.make_spectrum()\n",
    "\n",
    "    gaussian = scipy.signal.gaussian(M=M, std=std)\n",
    "    gaussian /= sum(gaussian)\n",
    "\n",
    "    ys = np.convolve(wave.ys, gaussian, mode='same')\n",
    "    smooth =  Wave(ys, framerate=wave.framerate)\n",
    "    spectrum2 = smooth.make_spectrum()\n",
    "\n",
    "    # plot the ratio of the original and smoothed spectrum\n",
    "    amps = spectrum.amps\n",
    "    amps2 = spectrum2.amps\n",
    "    ratio = amps2 / amps    \n",
    "    ratio[amps<560] = 0\n",
    "\n",
    "    # plot the same ratio along with the FFT of the window\n",
    "    padded =  zero_pad(gaussian, len(wave))\n",
    "    dft_gaussian = np.fft.rfft(padded)\n",
    "\n",
    "    plt.plot(np.abs(dft_gaussian), color='gray', label='Gaussian filter')\n",
    "    plt.plot(ratio, label='amplitude ratio')\n",
    "\n",
    "    decorate(xlabel='Frequency (Hz)', ylabel='Amplitude ratio')\n",
    "    plt.show()"
   ]
  },
  {
   "cell_type": "markdown",
   "metadata": {},
   "source": [
    "Данная функция принимаем на вход количество элементов в окне и стандартное отклонение нормального распределения (распределение Гаусса), что также является шириной гауссова окна. Сначала создается прямоугольный сигнал и сглаживает его гауссовым окном. После чего отображает на графике окно после преобразования Фурье и результат применения окна"
   ]
  },
  {
   "cell_type": "code",
   "execution_count": 4,
   "metadata": {},
   "outputs": [
    {
     "data": {
      "application/vnd.jupyter.widget-view+json": {
       "model_id": "904c13f0d1844eeba75136ac1ef9e39e",
       "version_major": 2,
       "version_minor": 0
      },
      "text/plain": [
       "interactive(children=(IntSlider(value=11, description='M', min=2), FloatSlider(value=2.0, description='std', m…"
      ]
     },
     "metadata": {},
     "output_type": "display_data"
    }
   ],
   "source": [
    "from ipywidgets import interact, interactive, fixed\n",
    "import ipywidgets as widgets\n",
    "\n",
    "slider = widgets.IntSlider(min=2, max=100, value=11)\n",
    "slider2 = widgets.FloatSlider(min=0, max=20, value=2)\n",
    "interact(plot_filter, M=slider, std=slider2);"
   ]
  },
  {
   "cell_type": "markdown",
   "metadata": {},
   "source": [
    "Как мы можем заметить при уменьшении только ширины окна, оно начинает меньше влиять на частоты, спадая медленнее, а при увеличении наоборот. Также при увеличении `std` появляются боковые лепестки"
   ]
  },
  {
   "cell_type": "code",
   "execution_count": null,
   "metadata": {},
   "outputs": [],
   "source": []
  }
 ],
 "metadata": {
  "kernelspec": {
   "display_name": "base",
   "language": "python",
   "name": "python3"
  },
  "language_info": {
   "codemirror_mode": {
    "name": "ipython",
    "version": 3
   },
   "file_extension": ".py",
   "mimetype": "text/x-python",
   "name": "python",
   "nbconvert_exporter": "python",
   "pygments_lexer": "ipython3",
   "version": "3.11.5"
  }
 },
 "nbformat": 4,
 "nbformat_minor": 2
}
